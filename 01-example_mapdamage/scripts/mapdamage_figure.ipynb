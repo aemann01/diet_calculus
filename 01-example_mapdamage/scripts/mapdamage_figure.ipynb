{
 "cells": [
  {
   "cell_type": "markdown",
   "metadata": {},
   "source": [
    "To make example mapdamage plots from a single modern and ancient sample you can run the following R code. First install and load required library ggplot2"
   ]
  },
  {
   "cell_type": "code",
   "execution_count": 1,
   "metadata": {},
   "outputs": [],
   "source": [
    "# install.packages(\"ggplot2\")\n",
    "library(ggplot2)"
   ]
  },
  {
   "cell_type": "markdown",
   "metadata": {},
   "source": [
    "Make simple line plots"
   ]
  },
  {
   "cell_type": "code",
   "execution_count": 2,
   "metadata": {},
   "outputs": [
    {
     "name": "stderr",
     "output_type": "stream",
     "text": [
      "Warning message in file(file, \"rt\"):\n",
      "“cannot open file '../modHuman/5pCtoT_freq.txt': No such file or directory”\n"
     ]
    },
    {
     "ename": "ERROR",
     "evalue": "Error in file(file, \"rt\"): cannot open the connection\n",
     "output_type": "error",
     "traceback": [
      "Error in file(file, \"rt\"): cannot open the connection\nTraceback:\n",
      "1. read.table(\"../modHuman/5pCtoT_freq.txt\", header = T)",
      "2. file(file, \"rt\")"
     ]
    }
   ],
   "source": [
    "dat <- read.table(\"../modHuman/5pCtoT_freq.txt\", header=T)\n",
    "dat2 <- read.table(\"../err2900752/5pCtoT_freq.txt\", header=T)\n",
    "\n",
    "ggplot(dat, aes(x=pos, y=X5pC.T)) + geom_line() + ylim(c(0.0, 0.3)) + theme_minimal()\n",
    "ggplot(dat2, aes(x=pos, y=X5pC.T)) + geom_line() + ylim(c(0.0, 0.3)) + theme_minimal()\n"
   ]
  }
 ],
 "metadata": {
  "kernelspec": {
   "display_name": "R",
   "language": "R",
   "name": "ir"
  },
  "language_info": {
   "codemirror_mode": "r",
   "file_extension": ".r",
   "mimetype": "text/x-r-source",
   "name": "R",
   "pygments_lexer": "r",
   "version": "3.6.0"
  }
 },
 "nbformat": 4,
 "nbformat_minor": 2
}
